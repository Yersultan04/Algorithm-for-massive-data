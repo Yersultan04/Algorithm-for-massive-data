{
 "cells": [
  {
   "cell_type": "code",
   "execution_count": 15,
   "metadata": {
    "colab": {
     "base_uri": "https://localhost:8080/"
    },
    "id": "J060vLpHYlYH",
    "outputId": "a6bfd69a-13fb-4d9a-a09f-6de4657a3651"
   },
   "outputs": [
    {
     "output_type": "stream",
     "name": "stdout",
     "text": [
      "Requirement already satisfied: kaggle in /usr/local/lib/python3.11/dist-packages (1.7.4.5)\n",
      "Requirement already satisfied: datasketch in /usr/local/lib/python3.11/dist-packages (1.6.5)\n",
      "Requirement already satisfied: scikit-learn in /usr/local/lib/python3.11/dist-packages (1.6.1)\n",
      "Requirement already satisfied: faiss-cpu in /usr/local/lib/python3.11/dist-packages (1.11.0)\n",
      "Requirement already satisfied: langdetect in /usr/local/lib/python3.11/dist-packages (1.0.9)\n",
      "Requirement already satisfied: tqdm in /usr/local/lib/python3.11/dist-packages (4.67.1)\n",
      "Requirement already satisfied: bleach in /usr/local/lib/python3.11/dist-packages (from kaggle) (6.2.0)\n",
      "Requirement already satisfied: certifi>=14.05.14 in /usr/local/lib/python3.11/dist-packages (from kaggle) (2025.4.26)\n",
      "Requirement already satisfied: charset-normalizer in /usr/local/lib/python3.11/dist-packages (from kaggle) (3.4.2)\n",
      "Requirement already satisfied: idna in /usr/local/lib/python3.11/dist-packages (from kaggle) (3.10)\n",
      "Requirement already satisfied: protobuf in /usr/local/lib/python3.11/dist-packages (from kaggle) (5.29.5)\n",
      "Requirement already satisfied: python-dateutil>=2.5.3 in /usr/local/lib/python3.11/dist-packages (from kaggle) (2.9.0.post0)\n",
      "Requirement already satisfied: python-slugify in /usr/local/lib/python3.11/dist-packages (from kaggle) (8.0.4)\n",
      "Requirement already satisfied: requests in /usr/local/lib/python3.11/dist-packages (from kaggle) (2.32.3)\n",
      "Requirement already satisfied: setuptools>=21.0.0 in /usr/local/lib/python3.11/dist-packages (from kaggle) (75.2.0)\n",
      "Requirement already satisfied: six>=1.10 in /usr/local/lib/python3.11/dist-packages (from kaggle) (1.17.0)\n",
      "Requirement already satisfied: text-unidecode in /usr/local/lib/python3.11/dist-packages (from kaggle) (1.3)\n",
      "Requirement already satisfied: urllib3>=1.15.1 in /usr/local/lib/python3.11/dist-packages (from kaggle) (2.4.0)\n",
      "Requirement already satisfied: webencodings in /usr/local/lib/python3.11/dist-packages (from kaggle) (0.5.1)\n",
      "Requirement already satisfied: numpy>=1.11 in /usr/local/lib/python3.11/dist-packages (from datasketch) (2.0.2)\n",
      "Requirement already satisfied: scipy>=1.0.0 in /usr/local/lib/python3.11/dist-packages (from datasketch) (1.15.3)\n",
      "Requirement already satisfied: joblib>=1.2.0 in /usr/local/lib/python3.11/dist-packages (from scikit-learn) (1.5.1)\n",
      "Requirement already satisfied: threadpoolctl>=3.1.0 in /usr/local/lib/python3.11/dist-packages (from scikit-learn) (3.6.0)\n",
      "Requirement already satisfied: packaging in /usr/local/lib/python3.11/dist-packages (from faiss-cpu) (24.2)\n"
     ]
    },
    {
     "output_type": "stream",
     "name": "stderr",
     "text": [
      "[nltk_data] Downloading package stopwords to /root/nltk_data...\n",
      "[nltk_data]   Package stopwords is already up-to-date!\n",
      "[nltk_data] Downloading package wordnet to /root/nltk_data...\n",
      "[nltk_data]   Package wordnet is already up-to-date!\n"
     ]
    },
    {
     "output_type": "execute_result",
     "data": {
      "text/plain": [
       "True"
      ]
     },
     "metadata": {},
     "execution_count": 15
    }
   ],
   "source": [
    "!pip install kaggle datasketch scikit-learn faiss-cpu langdetect tqdm\n",
    "import nltk\n",
    "nltk.download('stopwords')\n",
    "nltk.download('wordnet')"
   ]
  },
  {
   "cell_type": "code",
   "execution_count": 16,
   "metadata": {
    "colab": {
     "base_uri": "https://localhost:8080/"
    },
    "id": "p-Kbi6v7e7Lg",
    "outputId": "e7f666d1-0050-4843-e95f-feb02bcac5aa"
   },
   "outputs": [
    {
     "output_type": "stream",
     "name": "stdout",
     "text": [
      "Dataset URL: https://www.kaggle.com/datasets/mohamedbakhet/amazon-books-reviews\n",
      "License(s): CC0-1.0\n",
      "amazon-books-reviews.zip: Skipping, found more recently modified local copy (use --force to force download)\n",
      "Archive:  amazon-books-reviews.zip\n"
     ]
    }
   ],
   "source": [
    "import os\n",
    "\n",
    "os.environ['KAGGLE_USERNAME'] = \"ersultan040403\"\n",
    "os.environ['KAGGLE_KEY'] = \"c74b77ebd443fb863a7fa423c3e592d5\"\n",
    "\n",
    "!kaggle datasets download -d mohamedbakhet/amazon-books-reviews\n",
    "!unzip -n amazon-books-reviews.zip\n"
   ]
  },
  {
   "cell_type": "code",
   "execution_count": 17,
   "metadata": {
    "id": "vlAE9GR0fRwT"
   },
   "outputs": [],
   "source": [
    "import pandas as pd\n",
    "import numpy as np\n",
    "import re\n",
    "from tqdm.notebook import tqdm\n",
    "from langdetect import detect\n",
    "from nltk.corpus import stopwords\n",
    "from nltk.stem import WordNetLemmatizer\n",
    "\n",
    "USE_SAMPLE = True\n",
    "NROWS_SAMPLE = 10000\n",
    "JACCARD_THRESHOLD = 0.8\n",
    "COSINE_THRESHOLD = 0.85\n"
   ]
  },
  {
   "cell_type": "code",
   "execution_count": 18,
   "metadata": {
    "colab": {
     "base_uri": "https://localhost:8080/"
    },
    "id": "9qvFungxgcFJ",
    "outputId": "4f351892-8e65-48ce-8a0e-5bd10086dae3"
   },
   "outputs": [
    {
     "output_type": "stream",
     "name": "stdout",
     "text": [
      "Index(['Id', 'Title', 'Price', 'User_id', 'profileName', 'review/helpfulness',\n",
      "       'review/score', 'review/time', 'review/summary', 'review/text'],\n",
      "      dtype='object')\n"
     ]
    }
   ],
   "source": [
    "csv_path = 'Books_rating.csv'\n",
    "\n",
    "df_test = pd.read_csv(csv_path, nrows=1)\n",
    "print(df_test.columns)"
   ]
  },
  {
   "cell_type": "code",
   "execution_count": 19,
   "metadata": {
    "colab": {
     "base_uri": "https://localhost:8080/",
     "height": 49,
     "referenced_widgets": [
      "df6578b85bdd441baa56623249b0d8ef",
      "ab47684254bc490cb62f4a232739cb88",
      "5f66d81d2c3d497985f76ac8b42285cc",
      "60e448cb41fa4eb3942a9d9ff72dfaa9",
      "e02e9787bc454c3a8b4c610baa738c4d",
      "a825c0d90e0b4734a207e48e91a2ffd7",
      "f435acb2fba8491584e116ae30208155",
      "c2995e40d3a14af6afea913df55522c0",
      "7573ceacf1f44ca9bbd14a32f6c57ec9",
      "e99ca26dc11f41309463c7999b3577b8",
      "b8fa6d8fa98a4ab696963ad7baeb3c49"
     ]
    },
    "id": "Di26fW35f1mf",
    "outputId": "9823a8d4-124b-46d6-a43b-3884c6193f18"
   },
   "outputs": [
    {
     "output_type": "display_data",
     "data": {
      "text/plain": [
       "  0%|          | 0/10000 [00:00<?, ?it/s]"
      ],
      "application/vnd.jupyter.widget-view+json": {
       "version_major": 2,
       "version_minor": 0,
       "model_id": "df6578b85bdd441baa56623249b0d8ef"
      }
     },
     "metadata": {}
    }
   ],
   "source": [
    "csv_path = 'Books_rating.csv'\n",
    "\n",
    "df = pd.read_csv(\n",
    "    csv_path,\n",
    "    usecols=['review/text', 'review/summary', 'User_id', 'Title'],\n",
    "    nrows=NROWS_SAMPLE if USE_SAMPLE else None\n",
    ")\n",
    "\n",
    "df['full_text'] = (df['review/summary'].fillna('') + ' ' + df['review/text'].fillna('')).str.strip()\n",
    "\n",
    "df = df[df['full_text'].str.strip().astype(bool)]\n",
    "\n",
    "def is_english(text):\n",
    "    try:\n",
    "        return detect(text) == 'en'\n",
    "    except:\n",
    "        return False\n",
    "\n",
    "tqdm.pandas()\n",
    "df = df[df['full_text'].progress_apply(is_english)]\n",
    "df = df.reset_index(drop=True)\n"
   ]
  },
  {
   "cell_type": "code",
   "execution_count": 20,
   "metadata": {
    "colab": {
     "base_uri": "https://localhost:8080/",
     "height": 275,
     "referenced_widgets": [
      "edb8d52fe8d241dd942b3f96b49a59e3",
      "6d8c5a488998457a87da2e9e9439dbbb",
      "286f31bbc6964859b9a722b98baf1911",
      "e91f849253c0495d95140a7f2bde66e7",
      "1caa00f4d89f481a99fafb1122557a6d",
      "54633c76a61047ec94b6e030d7094236",
      "df15386c93b4475e8cc7af17a1a04897",
      "93fba4a887b747a5a0eec2c8356466cb",
      "d141d0aa85504068a9df97ac836cb9fc",
      "5d5ce1d29cab484497bb5cffb74ef2ab",
      "7d45c6832e074c60859be77b33786e58"
     ]
    },
    "id": "qy9Tyjwbf5jj",
    "outputId": "453ab679-0238-402a-b52e-c0158da31103"
   },
   "outputs": [
    {
     "output_type": "stream",
     "name": "stderr",
     "text": [
      "[nltk_data] Downloading package stopwords to /root/nltk_data...\n",
      "[nltk_data]   Package stopwords is already up-to-date!\n",
      "[nltk_data] Downloading package wordnet to /root/nltk_data...\n",
      "[nltk_data]   Package wordnet is already up-to-date!\n"
     ]
    },
    {
     "output_type": "display_data",
     "data": {
      "text/plain": [
       "  0%|          | 0/9958 [00:00<?, ?it/s]"
      ],
      "application/vnd.jupyter.widget-view+json": {
       "version_major": 2,
       "version_minor": 0,
       "model_id": "edb8d52fe8d241dd942b3f96b49a59e3"
      }
     },
     "metadata": {}
    },
    {
     "output_type": "stream",
     "name": "stdout",
     "text": [
      "                                           full_text  \\\n",
      "0  Nice collection of Julie Strain images This is...   \n",
      "1  Really Enjoyed It I don't care much for Dr. Se...   \n",
      "2  Essential for every personal and Public Librar...   \n",
      "\n",
      "                                              tokens  \n",
      "0  {one, wrong, nice, like, strain, image, lookin...  \n",
      "1  {artist, poet, meet, treating, book, complimen...  \n",
      "2  {artist, best, verse, poet, modern, engaging, ...  \n"
     ]
    }
   ],
   "source": [
    "import re\n",
    "from nltk.corpus import stopwords\n",
    "from nltk.stem import WordNetLemmatizer\n",
    "\n",
    "import nltk\n",
    "nltk.download('stopwords')\n",
    "nltk.download('wordnet')\n",
    "\n",
    "stop_words = set(stopwords.words('english'))\n",
    "lemmatizer = WordNetLemmatizer()\n",
    "\n",
    "def preprocess(text):\n",
    "    text = text.lower()\n",
    "    text = re.sub(r'[^a-z\\s]', ' ', text)\n",
    "    tokens = text.split()\n",
    "    tokens = [lemmatizer.lemmatize(t) for t in tokens if t not in stop_words and len(t) > 2]\n",
    "    return set(tokens)\n",
    "\n",
    "tqdm.pandas()\n",
    "df['tokens'] = df['full_text'].progress_apply(preprocess)\n",
    "\n",
    "print(df[['full_text', 'tokens']].head(3))\n"
   ]
  },
  {
   "cell_type": "code",
   "execution_count": 21,
   "metadata": {
    "colab": {
     "base_uri": "https://localhost:8080/",
     "height": 781,
     "referenced_widgets": [
      "044da43c3fda41abb18e3f891e6559e9",
      "b91150da1a7f49158f6f2198ce5e7636",
      "946c662245b84ce194dae593a8b9a641",
      "6a5e1068968e43e5bce02e05dd0b2a3a",
      "fb39ce457c1f4d339ed3ce3cc5ae9825",
      "694aaf03f31d471986c930bdb77d6b6b",
      "3d108a6ff60e413aa48f86ec71a45e63",
      "b6e0be3772ec4d68a4e71c8dc172c81b",
      "6192ed4c98b44fd4a03fede4a0b1764e",
      "8bdf94547f12450184c9f83c65897b2b",
      "a04969f95ba94989927545c64822def9"
     ]
    },
    "id": "tctUNzH4hX-Z",
    "outputId": "376db2d0-6f87-4463-d6a7-555d234bc898"
   },
   "outputs": [
    {
     "output_type": "display_data",
     "data": {
      "text/plain": [
       "  0%|          | 0/499500 [00:00<?, ?it/s]"
      ],
      "application/vnd.jupyter.widget-view+json": {
       "version_major": 2,
       "version_minor": 0,
       "model_id": "044da43c3fda41abb18e3f891e6559e9"
      }
     },
     "metadata": {}
    },
    {
     "output_type": "stream",
     "name": "stdout",
     "text": [
      "Found 13 pairs with Jaccard similarity >= 0.8\n",
      "========================================\n",
      "Review 1 (index 253):\n",
      "Stephen F. Miller Place, NY King James by Ryan Jones is a biography of Lebron's James' life prior to going into the NBA. It tells about how a little kid who lived in poverty with his mother goes on to become a six foot eight inch 245 pound high school basketball superstar. Lebron has to deal with the pressure of the media and go against tough opponents almost every game. Somehow he is able to handle all of this and all the other obstacles in his life. This is an entertaining book to read and I reccommend it to anyone who is a fan of Lebron James or is interested in reading about the rising star. The author does a great job of telling how Lebron is on and off the court. After reading this book you will come to respect Lebron as a basketbal player and a person.\n",
      "\n",
      "Review 2 (index 256):\n",
      "Stephen F. Miller Place, NY King James by Ryan Jones is a biography of Lebron's James' life prior to going into the NBA. It tells about how a little kid who lived in poverty with his mother goes on to become a six foot eight inch 245 pound high school basketball superstar. Lebron has to deal with the pressure of the media and go against tough opponents almost every game. Somehow he is able to handle all of this and all the other obstacles in his life. This is an entertaining book to read and I reccommend it to anyone who is a fan of Lebron James or is interested in reading about the rising star. The author does a great job of telling how Lebron is on and off the court. After reading this book you will come to respect Lebron as a basketbal player and a person.\n",
      "\n",
      "Jaccard similarity: 1.000\n",
      "========================================\n",
      "Review 1 (index 413):\n",
      "EXCELLENT!!!!!!!!!!! This book was outstanding! I couldn't put it down for a second! I could really understand and identify with the characters. I love how it all leads up to something, and the irony is great.\n",
      "\n",
      "Review 2 (index 414):\n",
      "EXCELLENT!!!!!!!!!!! This book was outstanding! I couldn't put it down for a second! I could really understand and identify with the characters. I love how it all leads up to something, and the irony is great.\n",
      "\n",
      "Jaccard similarity: 1.000\n",
      "========================================\n",
      "Review 1 (index 419):\n",
      "One of my Favorites I was sceptical about this book at first, I had never read L. J. Smith before, but my friend told me to read it and let me borrow her's. It was soo good. That was about a year ago. I have now read up to Black Dawn in the Night World series, and can't wait for more. I recomended these books to my other friends and they loved them too. I recomend ANY L. J. Smith books to anyone.\n",
      "\n",
      "Review 2 (index 420):\n",
      "One of my Favorites I was sceptical about this book at first, I had never read L. J. Smith before, but my friend told me to read it and let me borrow her's. It was soo good. That was about a year ago. I have now read up to Black Dawn in the Night World series, and can't wait for more. I recomended these books to my other friends and they loved them too. I recomend ANY L. J. Smith books to anyone.\n",
      "\n",
      "Jaccard similarity: 1.000\n",
      "========================================\n",
      "Review 1 (index 526):\n",
      "Don't Waste Yout Time Unless you are under obligation to read this for some sort of class, I would not recomend wasting yout time trying to wade through the quagmire of redundantly long, boring text. If I could pay attention to it for more than two sentences at a time, most likely I would find it to have a wealth of information; but it's dry, overly-intellecual style makes it impossible to stay interested. If you're looking for a challenge to read, you face two; deciphering the nealry 300 pages of rediculously long sentences, and staying awake. I even go so far as to say reading it is a complete waste of time, because the energy you must invest to understand this work' coupled witht the frustration of an endlessly boring stlye does not even compared to the information you will actually get out of it.\n",
      "\n",
      "Review 2 (index 527):\n",
      "Don't Waste Yout Time Unless you are under obligation to read this for some sort of class, I would not recomend wasting yout time trying to wade through the quagmire of redundantly long, boring text. If I could pay attention to it for more than two sentences at a time, most likely I would find it to have a wealth of information; but it's dry, overly-intellecual style makes it impossible to stay interested. If you're looking for a challenge to read, you face two; deciphering the nealry 300 pages of rediculously long sentences, and staying awake. I even go so far as to say reading it is a complete waste of time, because the energy you must invest to understand this work' coupled witht the frustration of an endlessly boring stlye does not even compared to the information you will actually get out of it.\n",
      "\n",
      "Jaccard similarity: 1.000\n",
      "========================================\n",
      "Review 1 (index 587):\n",
      "Back to basics Generally speaking a great book if you are not familiar with management accounting and turning heaps of information into valuable reports for your top management group. No doubt about it: This book will provide the basic tools for keeping your boss happy, especially if you need a brush-up on moving averages, etc. Having vast experience with both advanced financial and non-financial analysis on various aspects of business (shipping and construction), this book was somewhat a let down in terms of ability to inspire and provide ways to improve personal skills to structure and present complex topics in an ordered and clear fashion. A nice bedtable-reader for the pre-MBA. MBAs should look elsewhere.\n",
      "\n",
      "Review 2 (index 588):\n",
      "Back to basics Generally speaking a great book if you are not familiar with management accounting and turning heaps of information into valuable reports for your top management group. No doubt about it: This book will provide the basic tools for keeping your boss happy, especially if you need a brush-up on moving averages, etc. Having vast experience with both advanced financial and non-financial analysis on various aspects of business (shipping and construction), this book was somewhat a let down in terms of ability to inspire and provide ways to improve personal skills to structure and present complex topics in an ordered and clear fashion. A nice bedtable-reader for the pre-MBA. MBAs should look elsewhere.\n",
      "\n",
      "Jaccard similarity: 1.000\n"
     ]
    }
   ],
   "source": [
    "from itertools import combinations\n",
    "from tqdm.notebook import tqdm\n",
    "\n",
    "sample_n = min(1000, len(df))\n",
    "\n",
    "jaccard_pairs = []\n",
    "\n",
    "for i, j in tqdm(combinations(range(sample_n), 2), total=(sample_n*(sample_n-1))//2):\n",
    "    tokens_i = df.iloc[i]['tokens']\n",
    "    tokens_j = df.iloc[j]['tokens']\n",
    "    if tokens_i and tokens_j:\n",
    "        intersection = len(tokens_i & tokens_j)\n",
    "        union = len(tokens_i | tokens_j)\n",
    "        if union > 0:\n",
    "            score = intersection / union\n",
    "            if score >= JACCARD_THRESHOLD:\n",
    "                jaccard_pairs.append((i, j, score))\n",
    "\n",
    "print(f\"Found {len(jaccard_pairs)} pairs with Jaccard similarity >= {JACCARD_THRESHOLD}\")\n",
    "\n",
    "for i, j, score in sorted(jaccard_pairs, key=lambda x: -x[2])[:5]:\n",
    "    print(\"=\"*40)\n",
    "    print(f\"Review 1 (index {i}):\\n{df.iloc[i]['full_text']}\\n\")\n",
    "    print(f\"Review 2 (index {j}):\\n{df.iloc[j]['full_text']}\\n\")\n",
    "    print(f\"Jaccard similarity: {score:.3f}\")\n"
   ]
  },
  {
   "cell_type": "code",
   "execution_count": 22,
   "metadata": {
    "colab": {
     "base_uri": "https://localhost:8080/",
     "height": 845,
     "referenced_widgets": [
      "360b962cb1374b029be07373a210bd12",
      "f26998eabd244b9897b2f4c89c672a37",
      "665d3d4476aa433d9f6d9222afbd66ca",
      "9563558575c047459c1d825b2919d875",
      "65ef9afe7bd74028b4ddc94fe702711e",
      "ed2c817ffbbf40df8b4af5a38cb47328",
      "8e377e3fb5c54b6db90a5474ac795cba",
      "7372a72add614c70a99627a93431867e",
      "db551962b3da4f99be14a0e47aaa4a45",
      "9a7e8d190d8b4446aebdc60c429bb5fb",
      "adfc8127f36f4d249bfba10c8fee7cd7",
      "51ece6ec53af4f0fae97f06c142e786a",
      "fd1e98cb3a784224a4b1c41726c095ed",
      "4a0b3d39906345449e641a1f72068d68",
      "19579cb69dcf41dfbdbb120227741914",
      "4aaf2d31f860482184e21b2a43bc9071",
      "db6e037887704ec08bba31be5139dc01",
      "b7c2131f61ee4f6f8a3216a42525186f",
      "7b58cc1a684a4ae091806c03f7b3d181",
      "3be53532b20546e28f97d0917723e2da",
      "f9a9f2802ebe4028bb904ca969247014",
      "21648927ce4648d593afed6125dd7628",
      "995c5ac84d3641afa3635e0b47be8c9a",
      "45897b4a70a54e8db7d5da8d2d65c19a",
      "6616fb6425d742beacf2905a324f0040",
      "2243eda3fcf1450a85a037b7a7e5a2b1",
      "8f5e794e9b9b4042a0a7842ba89fc4fd",
      "7a7aedd07c384c6fb325ed280171920b",
      "98ef2a81e2304a93a72bc3b060618069",
      "b64a3b076d8344e5a1654ecc31319cf5",
      "c9428650ad1a4cb0ad143fb2c6b0db07",
      "5d74a9dfb0c1431c816ad656cda15547",
      "1b64139716364fb19f4749845d0d6632"
     ]
    },
    "id": "9q8HnbgNhu5x",
    "outputId": "707b07be-b6fd-4966-ecd7-4dd64fb975c9"
   },
   "outputs": [
    {
     "output_type": "display_data",
     "data": {
      "text/plain": [
       "MinHash signatures:   0%|          | 0/9958 [00:00<?, ?it/s]"
      ],
      "application/vnd.jupyter.widget-view+json": {
       "version_major": 2,
       "version_minor": 0,
       "model_id": "360b962cb1374b029be07373a210bd12"
      }
     },
     "metadata": {}
    },
    {
     "output_type": "display_data",
     "data": {
      "text/plain": [
       "LSH insert:   0%|          | 0/9958 [00:00<?, ?it/s]"
      ],
      "application/vnd.jupyter.widget-view+json": {
       "version_major": 2,
       "version_minor": 0,
       "model_id": "51ece6ec53af4f0fae97f06c142e786a"
      }
     },
     "metadata": {}
    },
    {
     "output_type": "display_data",
     "data": {
      "text/plain": [
       "LSH query:   0%|          | 0/9958 [00:00<?, ?it/s]"
      ],
      "application/vnd.jupyter.widget-view+json": {
       "version_major": 2,
       "version_minor": 0,
       "model_id": "995c5ac84d3641afa3635e0b47be8c9a"
      }
     },
     "metadata": {}
    },
    {
     "output_type": "stream",
     "name": "stdout",
     "text": [
      "Found 214 pairs with Jaccard >= 0.8\n",
      "========================================\n",
      "Review 1 (index 4753):\n",
      "The greatest Battle of Stalingrad book This is the most excellent book on the Battle we all think we know about. But this book shows how little we know. It has great research in Germany's Militaerarchiv in Freiburg and in captured war documents in American national and militar archives. Many, maybe most, of these documents have never been used by historians before. So the information from them and the author's conclusions are revelations. This book explains Stalingrad strategies, in the air and on the ground, better than any other book, and is the very first to explain the Luftwaffe's centrel role in German victories and defeats during 1942 and early 1943. Every Stalingrad reader will enjoy.\n",
      "\n",
      "Review 2 (index 4759):\n",
      "The greatest Battle of Stalingrad book This is the most excellent book on the Battle we all think we know about. But this book shows how little we know. It has great research in Germany's Militaerarchiv in Freiburg and in captured war documents in American national and militar archives. Many, maybe most, of these documents have never been used by historians before. So the information from them and the author's conclusions are revelations. This book explains Stalingrad strategies, in the air and on the ground, better than any other book, and is the very first to explain the Luftwaffe's centrel role in German victories and defeats during 1942 and early 1943. Every Stalingrad reader will enjoy.\n",
      "\n",
      "Jaccard similarity: 1.000\n",
      "========================================\n",
      "Review 1 (index 1256):\n",
      "One simple lesson The authors who understand the subject really well are able to explain it in simple and easy to understand language. This is what I feel that this book is all about. The author explains the economy in one lesson: policies should take into consideration the long-term consequences as well as short-term, and they should consider the effects on all groups, not just few. Wow, so simple, but unfortunately this is not how our policy makers think.I think that high school students should read this book before they enroll in economic courses that bore them to death with all the graphs and mathematical calculations. I really appreciate that this book is simple but to the point - even junior high school students would understand it. I highly recommend it.- Mariusz Skonieczny, author of Why Are We So Clueless about the Stock Market? Learn how to invest your money, how to pick stocks, and how to make money in the stock market\n",
      "\n",
      "Review 2 (index 1311):\n",
      "One simple lesson The authors who understand the subject really well are able to explain it in simple and easy to understand language. This is what I feel that this book is all about. The author explains the economy in one lesson: policies should take into consideration the long-term consequences as well as short-term, and they should consider the effects on all groups, not just few. Wow, so simple, but unfortunately this is not how our policy makers think.I think that high school students should read this book before they enroll in economic courses that bore them to death with all the graphs and mathematical calculations. I really appreciate that this book is simple but to the point - even junior high school students would understand it. I highly recommend it.- Mariusz Skonieczny, author of Why Are We So Clueless about the Stock Market? Learn how to invest your money, how to pick stocks, and how to make money in the stock market\n",
      "\n",
      "Jaccard similarity: 1.000\n",
      "========================================\n",
      "Review 1 (index 1197):\n",
      "Not your ordinary Lincoln biography According to the author's Preface, the publisher originally wanted to title this work \"Chips from a Historian's Workbench.\" While awkward, that title was certainly perceptive. This book takes research that perhaps never found a place in other papers or books about Lincoln and uses it to show us a different way to see him and the events leading to the Civil War.This book contains numerous interesting bits of information about Lincoln although the one piece I found most interesting was the fact that Lincoln was a land surveyor for a time. Many writers focus on Lincoln's limited education but a surveyor must have a good understanding of mathematics and by most accounts, Lincoln was very competent. This brings to issue the long standing belief that Lincoln had little formal education but,according to the author, Lincoln's formal education was consistant with that received by young people at that time.There are some sections of this book where Lincoln's name fails to appear and the reader might have cause to wonder if he is reading the wrong book. Fortunately, these little detours are not only interesting but help us see Lincoln and the Civil War period from a new perspective.I found this short book (about 200 pages) to be interesting and engaging. It was written by an author who understands how to communicate and keep the reader's interest. I would recommend it to anyone having an interest in Lincoln or the Civil War.\n",
      "\n",
      "Review 2 (index 3738):\n",
      "Not your ordinary Lincoln biography According to the author's Preface, the publisher originally wanted to title this work \"Chips from a Historian's Workbench.\" While awkward, that title was certainly perceptive. This book takes research that perhaps never found a place in other papers or books about Lincoln and uses it to show us a different way to see him and the events leading to the Civil War.This book contains numerous interesting bits of information about Lincoln although the one piece I found most interesting was the fact that Lincoln was a land surveyor for a time. Many writers focus on Lincoln's limited education but a surveyor must have a good understanding of mathematics and by most accounts, Lincoln was very competent. This brings to issue the long standing belief that Lincoln had little formal education but,according to the author, Lincoln's formal education was consistant with that received by young people at that time.There are some sections of this book where Lincoln's name fails to appear and the reader might have cause to wonder if he is reading the wrong book. Fortunately, these little detours are not only interesting but help us see Lincoln and the Civil War period from a new perspective.I found this short book (about 200 pages) to be interesting and engaging. It was written by an author who understands how to communicate and keep the reader's interest. I would recommend it to anyone having an interest in Lincoln or the Civil War.\n",
      "\n",
      "Jaccard similarity: 1.000\n",
      "========================================\n",
      "Review 1 (index 4256):\n",
      "An excelent translation A graceful and clear translation of the Holy Bible, the NRSV maintains fidelity to the original Greek and Hebrew texts while producing an edition equally at home when read from the lectern at church or on the couch at home. The translators have carefully reviewed words which refer to men only, and, when appropriate, translated them to include all the faithful. For example, when the Apostle Paul addresses the &quot;brothers&quot;, the NRSV substitutes &quot;friends&quot; or &quot;brothers and sisters.&quot; They never tamper with masculine references to God. It is their contention that this slight modification actually makes their translation more accurate. For example, when St. Paul says, &quot;Brothers, I do not want you to be ignorant concerning the resurrection,&quot; this version reminds us that the sisters should also not be ignorant. The complete version with the Apocryphal / Deuterocanonical books contains the fullest collection of books received as sacred Scripture by any historical branch of the Christian Church. By including such difficult-to-find books as 3 Maccabees and Psalm 151, they have produced the only easily obtainable Bible for the whole Church.\n",
      "\n",
      "Review 2 (index 6594):\n",
      "An excelent translation A graceful and clear translation of the Holy Bible, the NRSV maintains fidelity to the original Greek and Hebrew texts while producing an edition equally at home when read from the lectern at church or on the couch at home. The translators have carefully reviewed words which refer to men only, and, when appropriate, translated them to include all the faithful. For example, when the Apostle Paul addresses the &quot;brothers&quot;, the NRSV substitutes &quot;friends&quot; or &quot;brothers and sisters.&quot; They never tamper with masculine references to God. It is their contention that this slight modification actually makes their translation more accurate. For example, when St. Paul says, &quot;Brothers, I do not want you to be ignorant concerning the resurrection,&quot; this version reminds us that the sisters should also not be ignorant. The complete version with the Apocryphal / Deuterocanonical books contains the fullest collection of books received as sacred Scripture by any historical branch of the Christian Church. By including such difficult-to-find books as 3 Maccabees and Psalm 151, they have produced the only easily obtainable Bible for the whole Church.\n",
      "\n",
      "Jaccard similarity: 1.000\n",
      "========================================\n",
      "Review 1 (index 3759):\n",
      "the most amazing book on resilience and resistance this book is one of the most wonderful, amazing and inspiring ones i've ever read. it changed my life. it inspired my own research, i suggest it for all.\n",
      "\n",
      "Review 2 (index 6048):\n",
      "the most amazing book on resilience and resistance this book is one of the most wonderful, amazing and inspiring ones i've ever read. it changed my life. it inspired my own research, i suggest it for all.\n",
      "\n",
      "Jaccard similarity: 1.000\n"
     ]
    }
   ],
   "source": [
    "from datasketch import MinHash, MinHashLSH\n",
    "\n",
    "NUM_PERM = 128\n",
    "lsh = MinHashLSH(threshold=JACCARD_THRESHOLD, num_perm=NUM_PERM)\n",
    "\n",
    "def get_minhash(token_set, num_perm=NUM_PERM):\n",
    "    m = MinHash(num_perm=num_perm)\n",
    "    for token in token_set:\n",
    "        m.update(token.encode('utf8'))\n",
    "    return m\n",
    "\n",
    "minhashes = []\n",
    "for tokens in tqdm(df['tokens'], desc='MinHash signatures'):\n",
    "    minhashes.append(get_minhash(tokens))\n",
    "\n",
    "for idx, mh in tqdm(enumerate(minhashes), total=len(minhashes), desc='LSH insert'):\n",
    "    lsh.insert(str(idx), mh)\n",
    "\n",
    "similar_pairs = set()\n",
    "for idx, mh in tqdm(enumerate(minhashes), total=len(minhashes), desc='LSH query'):\n",
    "    candidates = lsh.query(mh)\n",
    "    for cand in candidates:\n",
    "        j = int(cand)\n",
    "        if idx < j:\n",
    "            tokens_i = df.iloc[idx]['tokens']\n",
    "            tokens_j = df.iloc[j]['tokens']\n",
    "            jac = len(tokens_i & tokens_j) / len(tokens_i | tokens_j) if (tokens_i and tokens_j) else 0\n",
    "            if jac >= JACCARD_THRESHOLD:\n",
    "                similar_pairs.add((idx, j, jac))\n",
    "\n",
    "print(f\"Found {len(similar_pairs)} pairs with Jaccard >= {JACCARD_THRESHOLD}\")\n",
    "\n",
    "for i, j, score in sorted(similar_pairs, key=lambda x: -x[2])[:5]:\n",
    "    print(\"=\"*40)\n",
    "    print(f\"Review 1 (index {i}):\\n{df.iloc[i]['full_text']}\\n\")\n",
    "    print(f\"Review 2 (index {j}):\\n{df.iloc[j]['full_text']}\\n\")\n",
    "    print(f\"Jaccard similarity: {score:.3f}\")\n"
   ]
  },
  {
   "cell_type": "code",
   "execution_count": 23,
   "metadata": {
    "colab": {
     "base_uri": "https://localhost:8080/"
    },
    "id": "ZGtKxJ8nh_gE",
    "outputId": "4495ed44-44b3-4d57-a4a8-1d2a35585789"
   },
   "outputs": [
    {
     "output_type": "stream",
     "name": "stdout",
     "text": [
      "Found 215 pairs with cosine similarity >= 0.85\n",
      "========================================\n",
      "Review 1 (index 4753):\n",
      "The greatest Battle of Stalingrad book This is the most excellent book on the Battle we all think we know about. But this book shows how little we know. It has great research in Germany's Militaerarchiv in Freiburg and in captured war documents in American national and militar archives. Many, maybe most, of these documents have never been used by historians before. So the information from them and the author's conclusions are revelations. This book explains Stalingrad strategies, in the air and on the ground, better than any other book, and is the very first to explain the Luftwaffe's centrel role in German victories and defeats during 1942 and early 1943. Every Stalingrad reader will enjoy.\n",
      "\n",
      "Review 2 (index 4759):\n",
      "The greatest Battle of Stalingrad book This is the most excellent book on the Battle we all think we know about. But this book shows how little we know. It has great research in Germany's Militaerarchiv in Freiburg and in captured war documents in American national and militar archives. Many, maybe most, of these documents have never been used by historians before. So the information from them and the author's conclusions are revelations. This book explains Stalingrad strategies, in the air and on the ground, better than any other book, and is the very first to explain the Luftwaffe's centrel role in German victories and defeats during 1942 and early 1943. Every Stalingrad reader will enjoy.\n",
      "\n",
      "Cosine similarity: 1.000\n",
      "========================================\n",
      "Review 1 (index 1256):\n",
      "One simple lesson The authors who understand the subject really well are able to explain it in simple and easy to understand language. This is what I feel that this book is all about. The author explains the economy in one lesson: policies should take into consideration the long-term consequences as well as short-term, and they should consider the effects on all groups, not just few. Wow, so simple, but unfortunately this is not how our policy makers think.I think that high school students should read this book before they enroll in economic courses that bore them to death with all the graphs and mathematical calculations. I really appreciate that this book is simple but to the point - even junior high school students would understand it. I highly recommend it.- Mariusz Skonieczny, author of Why Are We So Clueless about the Stock Market? Learn how to invest your money, how to pick stocks, and how to make money in the stock market\n",
      "\n",
      "Review 2 (index 1311):\n",
      "One simple lesson The authors who understand the subject really well are able to explain it in simple and easy to understand language. This is what I feel that this book is all about. The author explains the economy in one lesson: policies should take into consideration the long-term consequences as well as short-term, and they should consider the effects on all groups, not just few. Wow, so simple, but unfortunately this is not how our policy makers think.I think that high school students should read this book before they enroll in economic courses that bore them to death with all the graphs and mathematical calculations. I really appreciate that this book is simple but to the point - even junior high school students would understand it. I highly recommend it.- Mariusz Skonieczny, author of Why Are We So Clueless about the Stock Market? Learn how to invest your money, how to pick stocks, and how to make money in the stock market\n",
      "\n",
      "Cosine similarity: 1.000\n",
      "========================================\n",
      "Review 1 (index 1197):\n",
      "Not your ordinary Lincoln biography According to the author's Preface, the publisher originally wanted to title this work \"Chips from a Historian's Workbench.\" While awkward, that title was certainly perceptive. This book takes research that perhaps never found a place in other papers or books about Lincoln and uses it to show us a different way to see him and the events leading to the Civil War.This book contains numerous interesting bits of information about Lincoln although the one piece I found most interesting was the fact that Lincoln was a land surveyor for a time. Many writers focus on Lincoln's limited education but a surveyor must have a good understanding of mathematics and by most accounts, Lincoln was very competent. This brings to issue the long standing belief that Lincoln had little formal education but,according to the author, Lincoln's formal education was consistant with that received by young people at that time.There are some sections of this book where Lincoln's name fails to appear and the reader might have cause to wonder if he is reading the wrong book. Fortunately, these little detours are not only interesting but help us see Lincoln and the Civil War period from a new perspective.I found this short book (about 200 pages) to be interesting and engaging. It was written by an author who understands how to communicate and keep the reader's interest. I would recommend it to anyone having an interest in Lincoln or the Civil War.\n",
      "\n",
      "Review 2 (index 3738):\n",
      "Not your ordinary Lincoln biography According to the author's Preface, the publisher originally wanted to title this work \"Chips from a Historian's Workbench.\" While awkward, that title was certainly perceptive. This book takes research that perhaps never found a place in other papers or books about Lincoln and uses it to show us a different way to see him and the events leading to the Civil War.This book contains numerous interesting bits of information about Lincoln although the one piece I found most interesting was the fact that Lincoln was a land surveyor for a time. Many writers focus on Lincoln's limited education but a surveyor must have a good understanding of mathematics and by most accounts, Lincoln was very competent. This brings to issue the long standing belief that Lincoln had little formal education but,according to the author, Lincoln's formal education was consistant with that received by young people at that time.There are some sections of this book where Lincoln's name fails to appear and the reader might have cause to wonder if he is reading the wrong book. Fortunately, these little detours are not only interesting but help us see Lincoln and the Civil War period from a new perspective.I found this short book (about 200 pages) to be interesting and engaging. It was written by an author who understands how to communicate and keep the reader's interest. I would recommend it to anyone having an interest in Lincoln or the Civil War.\n",
      "\n",
      "Cosine similarity: 1.000\n",
      "========================================\n",
      "Review 1 (index 4256):\n",
      "An excelent translation A graceful and clear translation of the Holy Bible, the NRSV maintains fidelity to the original Greek and Hebrew texts while producing an edition equally at home when read from the lectern at church or on the couch at home. The translators have carefully reviewed words which refer to men only, and, when appropriate, translated them to include all the faithful. For example, when the Apostle Paul addresses the &quot;brothers&quot;, the NRSV substitutes &quot;friends&quot; or &quot;brothers and sisters.&quot; They never tamper with masculine references to God. It is their contention that this slight modification actually makes their translation more accurate. For example, when St. Paul says, &quot;Brothers, I do not want you to be ignorant concerning the resurrection,&quot; this version reminds us that the sisters should also not be ignorant. The complete version with the Apocryphal / Deuterocanonical books contains the fullest collection of books received as sacred Scripture by any historical branch of the Christian Church. By including such difficult-to-find books as 3 Maccabees and Psalm 151, they have produced the only easily obtainable Bible for the whole Church.\n",
      "\n",
      "Review 2 (index 6594):\n",
      "An excelent translation A graceful and clear translation of the Holy Bible, the NRSV maintains fidelity to the original Greek and Hebrew texts while producing an edition equally at home when read from the lectern at church or on the couch at home. The translators have carefully reviewed words which refer to men only, and, when appropriate, translated them to include all the faithful. For example, when the Apostle Paul addresses the &quot;brothers&quot;, the NRSV substitutes &quot;friends&quot; or &quot;brothers and sisters.&quot; They never tamper with masculine references to God. It is their contention that this slight modification actually makes their translation more accurate. For example, when St. Paul says, &quot;Brothers, I do not want you to be ignorant concerning the resurrection,&quot; this version reminds us that the sisters should also not be ignorant. The complete version with the Apocryphal / Deuterocanonical books contains the fullest collection of books received as sacred Scripture by any historical branch of the Christian Church. By including such difficult-to-find books as 3 Maccabees and Psalm 151, they have produced the only easily obtainable Bible for the whole Church.\n",
      "\n",
      "Cosine similarity: 1.000\n",
      "========================================\n",
      "Review 1 (index 3759):\n",
      "the most amazing book on resilience and resistance this book is one of the most wonderful, amazing and inspiring ones i've ever read. it changed my life. it inspired my own research, i suggest it for all.\n",
      "\n",
      "Review 2 (index 6048):\n",
      "the most amazing book on resilience and resistance this book is one of the most wonderful, amazing and inspiring ones i've ever read. it changed my life. it inspired my own research, i suggest it for all.\n",
      "\n",
      "Cosine similarity: 1.000\n"
     ]
    }
   ],
   "source": [
    "from sklearn.feature_extraction.text import TfidfVectorizer\n",
    "from sklearn.neighbors import NearestNeighbors\n",
    "\n",
    "texts = df['full_text'].astype(str).tolist()\n",
    "\n",
    "tfidf = TfidfVectorizer(\n",
    "    max_df=0.9,\n",
    "    min_df=2,\n",
    "    stop_words='english',\n",
    "    max_features=30000\n",
    ")\n",
    "X = tfidf.fit_transform(texts)\n",
    "\n",
    "n_neighbors = 5\n",
    "nn = NearestNeighbors(n_neighbors=n_neighbors+1, metric='cosine', algorithm='brute')\n",
    "nn.fit(X)\n",
    "\n",
    "distances, indices = nn.kneighbors(X)\n",
    "\n",
    "cosine_pairs = set()\n",
    "for i in range(len(df)):\n",
    "    for neighbor_idx, dist in zip(indices[i], distances[i]):\n",
    "        if i < neighbor_idx:\n",
    "            sim = 1 - dist\n",
    "            if sim >= COSINE_THRESHOLD:\n",
    "                cosine_pairs.add((i, neighbor_idx, sim))\n",
    "\n",
    "print(f\"Found {len(cosine_pairs)} pairs with cosine similarity >= {COSINE_THRESHOLD}\")\n",
    "\n",
    "for i, j, sim in sorted(cosine_pairs, key=lambda x: -x[2])[:5]:\n",
    "    print(\"=\"*40)\n",
    "    print(f\"Review 1 (index {i}):\\n{df.iloc[i]['full_text']}\\n\")\n",
    "    print(f\"Review 2 (index {j}):\\n{df.iloc[j]['full_text']}\\n\")\n",
    "    print(f\"Cosine similarity: {sim:.3f}\")\n"
   ]
  },
  {
   "cell_type": "code",
   "execution_count": 24,
   "metadata": {
    "colab": {
     "base_uri": "https://localhost:8080/"
    },
    "id": "3-rzMgRLim8i",
    "outputId": "e8ccbbf3-93c1-4e96-ab2f-74a53fbb1762"
   },
   "outputs": [
    {
     "output_type": "stream",
     "name": "stdout",
     "text": [
      "Found 145 clusters with same reviews (размер > 1)\n",
      "============================================================\n",
      "Cluster 1, size 2:\n",
      "- a bibliophiliac wedding of the SURREALIST &amp; the OCCULTIST Kurt Seligmann, Surrealist artist par excellence, admitted &amp; unashamed bibliophile, has ravaged his occult library in a miraculous mar...\n",
      "\n",
      "- a bibliophiliac wedding of the SURREALIST &amp; the OCCULTIST Kurt Seligmann, Surrealist artist par excellence, admitted &amp; unashamed bibliophile, has ravaged his occult library in a miraculous mar...\n",
      "\n",
      "============================================================\n",
      "Cluster 2, size 2:\n",
      "- Harnessing thought-power Dr Baker was one of those great 20th century metaphysicians like Emmet Fox, Ernest Holmes &Thomas Troward, who understood the working of the mind long before psychotherapy bec...\n",
      "\n",
      "- CLEAR AND INSPIRING EXPLANATION OF SPIRITUAL TREATMENT Dr Baker explains clearly and engagingly how one can improve one's life by changing your subconscious pattern through the spiritual technique cal...\n",
      "\n",
      "============================================================\n",
      "Cluster 3, size 2:\n",
      "- The Guide to Owning a Birman Cat (The Guide to Owning) Wonderful! Karen Cummings writes a book that tells you all the basics in cat care and tailors it to the Birman breed. The excellent photographs e...\n",
      "\n",
      "- Karen Cummings, comes through. Wonderful! Karen Cummings writes a book that tells you all thebasics of cat care and tailors it to the Birman breed. The excellentphotographs enable the reader to see wh...\n",
      "\n"
     ]
    }
   ],
   "source": [
    "import networkx as nx\n",
    "\n",
    "all_pairs = set(jaccard_pairs).union(cosine_pairs)\n",
    "\n",
    "G = nx.Graph()\n",
    "G.add_nodes_from(range(len(df)))\n",
    "for i, j, _ in all_pairs:\n",
    "    G.add_edge(i, j)\n",
    "\n",
    "clusters = [list(comp) for comp in nx.connected_components(G) if len(comp) > 1]\n",
    "print(f\"Found {len(clusters)} clusters with same reviews (размер > 1)\")\n",
    "\n",
    "for idx, cluster in enumerate(clusters[:3]):\n",
    "    print(\"=\"*60)\n",
    "    print(f\"Cluster {idx+1}, size {len(cluster)}:\")\n",
    "    for i in cluster:\n",
    "        print(f\"- {df.iloc[i]['full_text'][:200]}...\\n\")\n"
   ]
  },
  {
   "cell_type": "code",
   "execution_count": 25,
   "metadata": {
    "colab": {
     "base_uri": "https://localhost:8080/"
    },
    "id": "GO43FzPnjGpr",
    "outputId": "37188a3e-2b9f-445c-965f-d37a7d6c4f0d"
   },
   "outputs": [
    {
     "output_type": "stream",
     "name": "stdout",
     "text": [
      "Found only Jaccard: 0\n",
      "Found only Cosine: 202\n",
      "Found only: 13\n"
     ]
    }
   ],
   "source": [
    "jaccard_set = set((i, j) for i, j, _ in jaccard_pairs)\n",
    "cosine_set = set((i, j) for i, j, _ in cosine_pairs)\n",
    "print(f\"Found only Jaccard: {len(jaccard_set - cosine_set)}\")\n",
    "print(f\"Found only Cosine: {len(cosine_set - jaccard_set)}\")\n",
    "print(f\"Found only: {len(jaccard_set & cosine_set)}\")\n"
   ]
  },
  {
   "cell_type": "code",
   "execution_count": 26,
   "metadata": {
    "colab": {
     "base_uri": "https://localhost:8080/"
    },
    "id": "ivtARYiijLRw",
    "outputId": "ccc9748a-d352-47b7-a495-7f64b353b953"
   },
   "outputs": [
    {
     "output_type": "stream",
     "name": "stdout",
     "text": [
      "Checkin manually for pairs:\n",
      "========================================\n",
      "PAIR 1\n",
      "Cosine similarity: 1.000\n",
      "Text 1:\n",
      "The greatest Battle of Stalingrad book This is the most excellent book on the Battle we all think we know about. But this book shows how little we know. It has great research in Germany's Militaerarchiv in Freiburg and in captured war documents in American national and militar archives. Many, maybe most, of these documents have never been used by historians before. So the information from them and the author's conclusions are revelations. This book explains Stalingrad strategies, in the air and \n",
      "\n",
      "Text 2:\n",
      "The greatest Battle of Stalingrad book This is the most excellent book on the Battle we all think we know about. But this book shows how little we know. It has great research in Germany's Militaerarchiv in Freiburg and in captured war documents in American national and militar archives. Many, maybe most, of these documents have never been used by historians before. So the information from them and the author's conclusions are revelations. This book explains Stalingrad strategies, in the air and \n",
      "\n",
      "========================================\n",
      "PAIR 2\n",
      "Cosine similarity: 1.000\n",
      "Text 1:\n",
      "One simple lesson The authors who understand the subject really well are able to explain it in simple and easy to understand language. This is what I feel that this book is all about. The author explains the economy in one lesson: policies should take into consideration the long-term consequences as well as short-term, and they should consider the effects on all groups, not just few. Wow, so simple, but unfortunately this is not how our policy makers think.I think that high school students shoul\n",
      "\n",
      "Text 2:\n",
      "One simple lesson The authors who understand the subject really well are able to explain it in simple and easy to understand language. This is what I feel that this book is all about. The author explains the economy in one lesson: policies should take into consideration the long-term consequences as well as short-term, and they should consider the effects on all groups, not just few. Wow, so simple, but unfortunately this is not how our policy makers think.I think that high school students shoul\n",
      "\n",
      "========================================\n",
      "PAIR 3\n",
      "Cosine similarity: 1.000\n",
      "Text 1:\n",
      "Not your ordinary Lincoln biography According to the author's Preface, the publisher originally wanted to title this work \"Chips from a Historian's Workbench.\" While awkward, that title was certainly perceptive. This book takes research that perhaps never found a place in other papers or books about Lincoln and uses it to show us a different way to see him and the events leading to the Civil War.This book contains numerous interesting bits of information about Lincoln although the one piece I fo\n",
      "\n",
      "Text 2:\n",
      "Not your ordinary Lincoln biography According to the author's Preface, the publisher originally wanted to title this work \"Chips from a Historian's Workbench.\" While awkward, that title was certainly perceptive. This book takes research that perhaps never found a place in other papers or books about Lincoln and uses it to show us a different way to see him and the events leading to the Civil War.This book contains numerous interesting bits of information about Lincoln although the one piece I fo\n",
      "\n",
      "========================================\n",
      "PAIR 4\n",
      "Cosine similarity: 1.000\n",
      "Text 1:\n",
      "An excelent translation A graceful and clear translation of the Holy Bible, the NRSV maintains fidelity to the original Greek and Hebrew texts while producing an edition equally at home when read from the lectern at church or on the couch at home. The translators have carefully reviewed words which refer to men only, and, when appropriate, translated them to include all the faithful. For example, when the Apostle Paul addresses the &quot;brothers&quot;, the NRSV substitutes &quot;friends&quot; o\n",
      "\n",
      "Text 2:\n",
      "An excelent translation A graceful and clear translation of the Holy Bible, the NRSV maintains fidelity to the original Greek and Hebrew texts while producing an edition equally at home when read from the lectern at church or on the couch at home. The translators have carefully reviewed words which refer to men only, and, when appropriate, translated them to include all the faithful. For example, when the Apostle Paul addresses the &quot;brothers&quot;, the NRSV substitutes &quot;friends&quot; o\n",
      "\n",
      "========================================\n",
      "PAIR 5\n",
      "Cosine similarity: 1.000\n",
      "Text 1:\n",
      "the most amazing book on resilience and resistance this book is one of the most wonderful, amazing and inspiring ones i've ever read. it changed my life. it inspired my own research, i suggest it for all.\n",
      "\n",
      "Text 2:\n",
      "the most amazing book on resilience and resistance this book is one of the most wonderful, amazing and inspiring ones i've ever read. it changed my life. it inspired my own research, i suggest it for all.\n",
      "\n",
      "========================================\n",
      "PAIR 6\n",
      "Cosine similarity: 1.000\n",
      "Text 1:\n",
      "Great Book. If you are a beginner in MAX, this is the book to buy. It has like 150 step-by-step tutorials very easy to follow, considering the right and basic things to learn. If you already know something, or consider yourself as an intermediate, then maybe you could get a little frustrate, because the exercises are too basic, specially in modelling and animation. Its a great book to start, and a very helpful quick reference guide. Plus...the cd comes with very nice plugins.\n",
      "\n",
      "Text 2:\n",
      "Great Book. If you are a beginner in MAX, this is the book to buy. It has like 150 step-by-step tutorials very easy to follow, considering the right and basic things to learn. If you already know something, or consider yourself as an intermediate, then maybe you could get a little frustrate, because the exercises are too basic, specially in modelling and animation. Its a great book to start, and a very helpful quick reference guide. Plus...the cd comes with very nice plugins.\n",
      "\n",
      "========================================\n",
      "PAIR 7\n",
      "Cosine similarity: 1.000\n",
      "Text 1:\n",
      "The First Step in Leadership Training Dr. Gordon lays the foundation for successful leadership. His book describes the very basics that must be mastered by leaders who wish to be effective. The L.E.T. tells you how you aquire followers and what turns off your subordinates. He describes listening techniques as no one else has ever done. If you only purchase one book on leadership this should be the one.\n",
      "\n",
      "Text 2:\n",
      "The First Step in Leadership Training Dr. Gordon lays the foundation for successful leadership. His book describes the very basics that must be mastered by leaders who wish to be effective. The L.E.T. tells you how you aquire followers and what turns off your subordinates. He describes listening techniques as no one else has ever done. If you only purchase one book on leadership this should be the one.\n",
      "\n",
      "========================================\n",
      "PAIR 8\n",
      "Cosine similarity: 1.000\n",
      "Text 1:\n",
      "Kerouac's Best Kerouac may be best known for On The Road, but this is by far my favorite of his books. Looking back, it has probably been the most influential book on my life. The story is just so honest and original and beautiful, it confirmed my desire to be a writer when I read it as a sophomore in high school. But not just a writer. It made me want to live my life without shackles, free like Kerouac's character Japhy (Gary Snyder), climbing mountains and writing poetry. It captures the Boho \n",
      "\n",
      "Text 2:\n",
      "Kerouac's Best Kerouac may be best known for On The Road, but this is by far my favorite of his books. Looking back, it has probably been the most influential book on my life. The story is just so honest and original and beautiful, it confirmed my desire to be a writer when I read it as a sophomore in high school. But not just a writer. It made me want to live my life without shackles, free like Kerouac's character Japhy (Gary Snyder), climbing mountains and writing poetry. It captures the Boho \n",
      "\n",
      "========================================\n",
      "PAIR 9\n",
      "Cosine similarity: 1.000\n",
      "Text 1:\n",
      "The beginning of a wonderful sci-fi series I would recommend this series to anyone. Asimov is a great writer, who's very prolific (He's written over 400 books! ) This is the start of his Foundation series which is a well-developed series detailing the fall of a Galactic Empire and one man's attempt to shorten the dark ages that are to come after the fall. For those of you who like hard sci-fi this is the series for you.\n",
      "\n",
      "Text 2:\n",
      "The beginning of a wonderful sci-fi series I would recommend this series to anyone. Asimov is a great writer, who's very prolific (He's written over 400 books! ) This is the start of his Foundation series which is a well-developed series detailing the fall of a Galactic Empire and one man's attempt to shorten the dark ages that are to come after the fall. For those of you who like hard sci-fi this is the series for you.\n",
      "\n",
      "========================================\n",
      "PAIR 10\n",
      "Cosine similarity: 1.000\n",
      "Text 1:\n",
      "A pair of star-cross'd lovers take their life Two teenagers from rival families fall in love, marry secretly, and take their own lives rather than live without each other. Despite the teenage melodrama, \"Romeo and Juliet\" remains one of Shakespeare's most enduring and popular plays, even if it wasn't his best -- lots of death, teen lovers and enchanting dialogue.In the city of Verona, the Montagues and Capulets are locked in a deadly feud. Then a Montague teen named Romeo, infatuated with a Capu\n",
      "\n",
      "Text 2:\n",
      "A pair of star-cross'd lovers take their life Two teenagers from rival families fall in love, marry secretly, and take their own lives rather than live without each other. Despite the teenage melodrama, \"Romeo and Juliet\" remains one of Shakespeare's most enduring and popular plays, even if it wasn't his best -- lots of death, teen lovers and enchanting dialogue.In the city of Verona, the Montagues and Capulets are locked in a deadly feud. Then a Montague teen named Romeo, infatuated with a Capu\n",
      "\n"
     ]
    }
   ],
   "source": [
    "print(\"Checkin manually for pairs:\")\n",
    "for idx, (i, j, score) in enumerate(sorted(list(cosine_pairs), key=lambda x: -x[2])[:10]):\n",
    "    print(\"=\"*40)\n",
    "    print(f\"PAIR {idx+1}\")\n",
    "    print(f\"Cosine similarity: {score:.3f}\")\n",
    "    print(f\"Text 1:\\n{df.iloc[i]['full_text'][:500]}\\n\")\n",
    "    print(f\"Text 2:\\n{df.iloc[j]['full_text'][:500]}\\n\")\n"
   ]
  },
  {
   "cell_type": "code",
   "execution_count": 27,
   "metadata": {
    "colab": {
     "base_uri": "https://localhost:8080/",
     "height": 472
    },
    "id": "YXso9aXRktqf",
    "outputId": "9c1c6e0e-6626-4b2a-c97d-00bcc57b0f8d"
   },
   "outputs": [
    {
     "output_type": "display_data",
     "data": {
      "text/plain": [
       "<Figure size 640x480 with 1 Axes>"
      ],
      "image/png": "[encoded data removed]"
     },
     "metadata": {}
    }
   ],
   "source": [
    "import matplotlib.pyplot as plt\n",
    "\n",
    "cosine_scores = [score for (_, _, score) in cosine_pairs]\n",
    "plt.hist(cosine_scores, bins=20)\n",
    "plt.xlabel('Cosine similarity')\n",
    "plt.ylabel('Number of pairs')\n",
    "plt.title('Histogram of Cosine similarity scores')\n",
    "plt.show()\n"
   ]
  },
  {
   "cell_type": "code",
   "execution_count": 27,
   "metadata": {
    "id": "acHNf8YVk9Ax"
   },
   "outputs": [],
   "source": []
  }
 ],
 "metadata": {
  "colab": {
   "provenance": []
  },
  "kernelspec": {
   "display_name": "Python 3",
   "name": "python3"
  },
  "language_info": {
   "name": "python"
  }
 },
 "nbformat": 4,
 "nbformat_minor": 0
}