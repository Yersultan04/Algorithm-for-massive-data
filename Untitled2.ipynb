{
  "nbformat": 4,
  "nbformat_minor": 0,
  "metadata": {
    "colab": {
      "provenance": []
    },
    "kernelspec": {
      "name": "python3",
      "display_name": "Python 3"
    },
    "language_info": {
      "name": "python"
    }
        },
        "d850e4d7176a44cda4903e5c8ead7074": {
          "model_module": "@jupyter-widgets/controls",
          "model_name": "HTMLModel",
          "model_module_version": "1.5.0",
          "state": {
            "_dom_classes": [],
            "_model_module": "@jupyter-widgets/controls",
            "_model_module_version": "1.5.0",
            "_model_name": "HTMLModel",
            "_view_count": null,
            "_view_module": "@jupyter-widgets/controls",
            "_view_module_version": "1.5.0",
            "_view_name": "HTMLView",
            "description": "",
            "description_tooltip": null,
            "layout": "IPY_MODEL_2f0ab6287baa46d8978630ff43258a02",
            "placeholder": "​",
            "style": "IPY_MODEL_75407018d66541719c81098ad5b2980a",
            "value": " 60%"
          }
        },
        "ef46e0eb7cb441bbad3ef5e75d8d43e3": {
          "model_module": "@jupyter-widgets/controls",
          "model_name": "FloatProgressModel",
          "model_module_version": "1.5.0",
          "state": {
            "_dom_classes": [],
            "_model_module": "@jupyter-widgets/controls",
            "_model_module_version": "1.5.0",
            "_model_name": "FloatProgressModel",
            "_view_count": null,
            "_view_module": "@jupyter-widgets/controls",
            "_view_module_version": "1.5.0",
            "_view_name": "ProgressView",
            "bar_style": "",
            "description": "",
            "description_tooltip": null,
            "layout": "IPY_MODEL_bfee8c65cfbb4dba9be1a63c226a1b7c",
            "max": 10000,
            "min": 0,
            "orientation": "horizontal",
            "style": "IPY_MODEL_d53218c5c07046a0a3053696d7efa545",
            "value": 6014
          }
        },
        "f13b27e2b8824ef88d69eda5e745512d": {
          "model_module": "@jupyter-widgets/controls",
          "model_name": "HTMLModel",
          "model_module_version": "1.5.0",
          "state": {
            "_dom_classes": [],
            "_model_module": "@jupyter-widgets/controls",
            "_model_module_version": "1.5.0",
            "_model_name": "HTMLModel",
            "_view_count": null,
            "_view_module": "@jupyter-widgets/controls",
            "_view_module_version": "1.5.0",
            "_view_name": "HTMLView",
            "description": "",
            "description_tooltip": null,
            "layout": "IPY_MODEL_b9889c71c00d4dc881ed5be90f7bbb1b",
            "placeholder": "​",
            "style": "IPY_MODEL_1037aaab281543bd86211593e7e0144f",
            "value": " 5977/10000 [00:24&lt;00:12, 316.77it/s]"
          }
        },
        "d8aebfa1b8ce405e825b87e1e5ff8c83": {
          "model_module": "@jupyter-widgets/base",
          "model_name": "LayoutModel",
          "model_module_version": "1.2.0",
          "state": {
            "_model_module": "@jupyter-widgets/base",
            "_model_module_version": "1.2.0",
            "_model_name": "LayoutModel",
            "_view_count": null,
            "_view_module": "@jupyter-widgets/base",
            "_view_module_version": "1.2.0",
            "_view_name": "LayoutView",
            "align_content": null,
            "align_items": null,
            "align_self": null,
            "border": null,
            "bottom": null,
            "display": null,
            "flex": null,
            "flex_flow": null,
            "grid_area": null,
            "grid_auto_columns": null,
            "grid_auto_flow": null,
            "grid_auto_rows": null,
            "grid_column": null,
            "grid_gap": null,
            "grid_row": null,
            "grid_template_areas": null,
            "grid_template_columns": null,
            "grid_template_rows": null,
            "height": null,
            "justify_content": null,
            "justify_items": null,
            "left": null,
            "margin": null,
            "max_height": null,
            "max_width": null,
            "min_height": null,
            "min_width": null,
            "object_fit": null,
            "object_position": null,
            "order": null,
            "overflow": null,
            "overflow_x": null,
            "overflow_y": null,
            "padding": null,
            "right": null,
            "top": null,
            "visibility": null,
            "width": null
          }
        },
        "2f0ab6287baa46d8978630ff43258a02": {
          "model_module": "@jupyter-widgets/base",
          "model_name": "LayoutModel",
          "model_module_version": "1.2.0",
          "state": {
            "_model_module": "@jupyter-widgets/base",
            "_model_module_version": "1.2.0",
            "_model_name": "LayoutModel",
            "_view_count": null,
            "_view_module": "@jupyter-widgets/base",
            "_view_module_version": "1.2.0",
            "_view_name": "LayoutView",
            "align_content": null,
            "align_items": null,
            "align_self": null,
            "border": null,
            "bottom": null,
            "display": null,
            "flex": null,
            "flex_flow": null,
            "grid_area": null,
            "grid_auto_columns": null,
            "grid_auto_flow": null,
            "grid_auto_rows": null,
            "grid_column": null,
            "grid_gap": null,
            "grid_row": null,
            "grid_template_areas": null,
            "grid_template_columns": null,
            "grid_template_rows": null,
            "height": null,
            "justify_content": null,
            "justify_items": null,
            "left": null,
            "margin": null,
            "max_height": null,
            "max_width": null,
            "min_height": null,
            "min_width": null,
            "object_fit": null,
            "object_position": null,
            "order": null,
            "overflow": null,
            "overflow_x": null,
            "overflow_y": null,
            "padding": null,
            "right": null,
            "top": null,
            "visibility": null,
            "width": null
          }
        },
        "75407018d66541719c81098ad5b2980a": {
          "model_module": "@jupyter-widgets/controls",
          "model_name": "DescriptionStyleModel",
          "model_module_version": "1.5.0",
          "state": {
            "_model_module": "@jupyter-widgets/controls",
            "_model_module_version": "1.5.0",
            "_model_name": "DescriptionStyleModel",
            "_view_count": null,
            "_view_module": "@jupyter-widgets/base",
            "_view_module_version": "1.2.0",
            "_view_name": "StyleView",
            "description_width": ""
          }
        },
        "bfee8c65cfbb4dba9be1a63c226a1b7c": {
          "model_module": "@jupyter-widgets/base",
          "model_name": "LayoutModel",
          "model_module_version": "1.2.0",
          "state": {
            "_model_module": "@jupyter-widgets/base",
            "_model_module_version": "1.2.0",
            "_model_name": "LayoutModel",
            "_view_count": null,
            "_view_module": "@jupyter-widgets/base",
            "_view_module_version": "1.2.0",
            "_view_name": "LayoutView",
            "align_content": null,
            "align_items": null,
            "align_self": null,
            "border": null,
            "bottom": null,
            "display": null,
            "flex": null,
            "flex_flow": null,
            "grid_area": null,
            "grid_auto_columns": null,
            "grid_auto_flow": null,
            "grid_auto_rows": null,
            "grid_column": null,
            "grid_gap": null,
            "grid_row": null,
            "grid_template_areas": null,
            "grid_template_columns": null,
            "grid_template_rows": null,
            "height": null,
            "justify_content": null,
            "justify_items": null,
            "left": null,
            "margin": null,
            "max_height": null,
            "max_width": null,
            "min_height": null,
            "min_width": null,
            "object_fit": null,
            "object_position": null,
            "order": null,
            "overflow": null,
            "overflow_x": null,
            "overflow_y": null,
            "padding": null,
            "right": null,
            "top": null,
            "visibility": null,
            "width": null
          }
        },
        "d53218c5c07046a0a3053696d7efa545": {
          "model_module": "@jupyter-widgets/controls",
          "model_name": "ProgressStyleModel",
          "model_module_version": "1.5.0",
          "state": {
            "_model_module": "@jupyter-widgets/controls",
            "_model_module_version": "1.5.0",
            "_model_name": "ProgressStyleModel",
            "_view_count": null,
            "_view_module": "@jupyter-widgets/base",
            "_view_module_version": "1.2.0",
            "_view_name": "StyleView",
            "bar_color": null,
            "description_width": ""
          }
        },
        "b9889c71c00d4dc881ed5be90f7bbb1b": {
          "model_module": "@jupyter-widgets/base",
          "model_name": "LayoutModel",
          "model_module_version": "1.2.0",
          "state": {
            "_model_module": "@jupyter-widgets/base",
            "_model_module_version": "1.2.0",
            "_model_name": "LayoutModel",
            "_view_count": null,
            "_view_module": "@jupyter-widgets/base",
            "_view_module_version": "1.2.0",
            "_view_name": "LayoutView",
            "align_content": null,
            "align_items": null,
            "align_self": null,
            "border": null,
            "bottom": null,
            "display": null,
            "flex": null,
            "flex_flow": null,
            "grid_area": null,
            "grid_auto_columns": null,
            "grid_auto_flow": null,
            "grid_auto_rows": null,
            "grid_column": null,
            "grid_gap": null,
            "grid_row": null,
            "grid_template_areas": null,
            "grid_template_columns": null,
            "grid_template_rows": null,
            "height": null,
            "justify_content": null,
            "justify_items": null,
            "left": null,
            "margin": null,
            "max_height": null,
            "max_width": null,
            "min_height": null,
            "min_width": null,
            "object_fit": null,
            "object_position": null,
            "order": null,
            "overflow": null,
            "overflow_x": null,
            "overflow_y": null,
            "padding": null,
            "right": null,
            "top": null,
            "visibility": null,
            "width": null
          }
        },
        "1037aaab281543bd86211593e7e0144f": {
          "model_module": "@jupyter-widgets/controls",
          "model_name": "DescriptionStyleModel",
          "model_module_version": "1.5.0",
          "state": {
            "_model_module": "@jupyter-widgets/controls",
            "_model_module_version": "1.5.0",
            "_model_name": "DescriptionStyleModel",
            "_view_count": null,
            "_view_module": "@jupyter-widgets/base",
            "_view_module_version": "1.2.0",
            "_view_name": "StyleView",
            "description_width": ""
          }
        }
      }
    }
  },
  "cells": [
    {
      "cell_type": "code",
      "execution_count": null,
      "metadata": {
        "colab": {
          "base_uri": "https://localhost:8080/"
        },
        "id": "J060vLpHYlYH",
        "outputId": "b88e23c8-3229-44b3-dd2c-51073d6f6544"
      },
      "outputs": [
        {
          "output_type": "stream",
          "name": "stdout",
          "text": [
            "Requirement already satisfied: kaggle in /usr/local/lib/python3.11/dist-packages (1.7.4.5)\n",
            "Collecting datasketch\n",
            "  Downloading datasketch-1.6.5-py3-none-any.whl.metadata (5.8 kB)\n",
            "Requirement already satisfied: scikit-learn in /usr/local/lib/python3.11/dist-packages (1.6.1)\n",
            "Collecting faiss-cpu\n",
            "  Downloading faiss_cpu-1.11.0-cp311-cp311-manylinux_2_28_x86_64.whl.metadata (4.8 kB)\n",
            "Collecting langdetect\n",
            "  Downloading langdetect-1.0.9.tar.gz (981 kB)\n",
            "\u001b[2K     \u001b[90m━━━━━━━━━━━━━━━━━━━━━━━━━━━━━━━━━━━━━━\u001b[0m \u001b[32m981.5/981.5 kB\u001b[0m \u001b[31m12.4 MB/s\u001b[0m eta \u001b[36m0:00:00\u001b[0m\n",
            "\u001b[?25h  Preparing metadata (setup.py) ... \u001b[?25l\u001b[?25hdone\n",
            "Requirement already satisfied: tqdm in /usr/local/lib/python3.11/dist-packages (4.67.1)\n",
            "Requirement already satisfied: bleach in /usr/local/lib/python3.11/dist-packages (from kaggle) (6.2.0)\n",
            "Requirement already satisfied: certifi>=14.05.14 in /usr/local/lib/python3.11/dist-packages (from kaggle) (2025.4.26)\n",
            "Requirement already satisfied: charset-normalizer in /usr/local/lib/python3.11/dist-packages (from kaggle) (3.4.2)\n",
            "Requirement already satisfied: idna in /usr/local/lib/python3.11/dist-packages (from kaggle) (3.10)\n",
            "Requirement already satisfied: protobuf in /usr/local/lib/python3.11/dist-packages (from kaggle) (5.29.5)\n",
            "Requirement already satisfied: python-dateutil>=2.5.3 in /usr/local/lib/python3.11/dist-packages (from kaggle) (2.9.0.post0)\n",
            "Requirement already satisfied: python-slugify in /usr/local/lib/python3.11/dist-packages (from kaggle) (8.0.4)\n",
            "Requirement already satisfied: requests in /usr/local/lib/python3.11/dist-packages (from kaggle) (2.32.3)\n",
            "Requirement already satisfied: setuptools>=21.0.0 in /usr/local/lib/python3.11/dist-packages (from kaggle) (75.2.0)\n",
            "Requirement already satisfied: six>=1.10 in /usr/local/lib/python3.11/dist-packages (from kaggle) (1.17.0)\n",
            "Requirement already satisfied: text-unidecode in /usr/local/lib/python3.11/dist-packages (from kaggle) (1.3)\n",
            "Requirement already satisfied: urllib3>=1.15.1 in /usr/local/lib/python3.11/dist-packages (from kaggle) (2.4.0)\n",
            "Requirement already satisfied: webencodings in /usr/local/lib/python3.11/dist-packages (from kaggle) (0.5.1)\n",
            "Requirement already satisfied: numpy>=1.11 in /usr/local/lib/python3.11/dist-packages (from datasketch) (2.0.2)\n",
            "Requirement already satisfied: scipy>=1.0.0 in /usr/local/lib/python3.11/dist-packages (from datasketch) (1.15.3)\n",
            "Requirement already satisfied: joblib>=1.2.0 in /usr/local/lib/python3.11/dist-packages (from scikit-learn) (1.5.1)\n",
            "Requirement already satisfied: threadpoolctl>=3.1.0 in /usr/local/lib/python3.11/dist-packages (from scikit-learn) (3.6.0)\n",
            "Requirement already satisfied: packaging in /usr/local/lib/python3.11/dist-packages (from faiss-cpu) (24.2)\n",
            "Downloading datasketch-1.6.5-py3-none-any.whl (89 kB)\n",
            "\u001b[2K   \u001b[90m━━━━━━━━━━━━━━━━━━━━━━━━━━━━━━━━━━━━━━━━\u001b[0m \u001b[32m89.2/89.2 kB\u001b[0m \u001b[31m3.8 MB/s\u001b[0m eta \u001b[36m0:00:00\u001b[0m\n",
            "\u001b[?25hDownloading faiss_cpu-1.11.0-cp311-cp311-manylinux_2_28_x86_64.whl (31.3 MB)\n",
            "\u001b[2K   \u001b[90m━━━━━━━━━━━━━━━━━━━━━━━━━━━━━━━━━━━━━━━━\u001b[0m \u001b[32m31.3/31.3 MB\u001b[0m \u001b[31m52.7 MB/s\u001b[0m eta \u001b[36m0:00:00\u001b[0m\n",
            "\u001b[?25hBuilding wheels for collected packages: langdetect\n",
            "  Building wheel for langdetect (setup.py) ... \u001b[?25l\u001b[?25hdone\n",
            "  Created wheel for langdetect: filename=langdetect-1.0.9-py3-none-any.whl size=993223 sha256=4e443af60bac5c75fadcc9d41dd15bb541811d743dc053f5ae30a636cd6c80d5\n",
            "  Stored in directory: /root/.cache/pip/wheels/0a/f2/b2/e5ca405801e05eb7c8ed5b3b4bcf1fcabcd6272c167640072e\n",
            "Successfully built langdetect\n",
            "Installing collected packages: langdetect, faiss-cpu, datasketch\n",
            "Successfully installed datasketch-1.6.5 faiss-cpu-1.11.0 langdetect-1.0.9\n"
          ]
        },
        {
          "output_type": "stream",
          "name": "stderr",
          "text": [
            "[nltk_data] Downloading package stopwords to /root/nltk_data...\n",
            "[nltk_data]   Unzipping corpora/stopwords.zip.\n",
            "[nltk_data] Downloading package wordnet to /root/nltk_data...\n"
          ]
        },
        {
          "output_type": "execute_result",
          "data": {
            "text/plain": [
              "True"
            ]
          },
          "metadata": {},
          "execution_count": 1
        }
      ],
      "source": [
        "# Install required packages\n",
        "!pip install kaggle datasketch scikit-learn faiss-cpu langdetect tqdm\n",
        "# For NLTK (if used):\n",
        "import nltk\n",
        "nltk.download('stopwords')\n",
        "nltk.download('wordnet')\n"
      ]
    },
    {
      "cell_type": "code",
      "source": [
        "import os\n",
        "\n",
        "os.environ['KAGGLE_USERNAME'] = \"ersultan040403\"\n",
        "os.environ['KAGGLE_KEY'] = \"c74b77ebd443fb863a7fa423c3e592d5\"\n",
        "\n",
        "!kaggle datasets download -d mohamedbakhet/amazon-books-reviews\n",
        "!unzip -n amazon-books-reviews.zip\n"
      ],
      "metadata": {
        "colab": {
          "base_uri": "https://localhost:8080/"
        },
        "id": "p-Kbi6v7e7Lg",
        "outputId": "4bb3f3f7-7e13-4ccc-92f0-c258b5ab914f"
      },
      "execution_count": null,
      "outputs": [
        {
          "output_type": "stream",
          "name": "stdout",
          "text": [
            "Dataset URL: https://www.kaggle.com/datasets/mohamedbakhet/amazon-books-reviews\n",
            "License(s): CC0-1.0\n",
            "amazon-books-reviews.zip: Skipping, found more recently modified local copy (use --force to force download)\n",
            "Archive:  amazon-books-reviews.zip\n"
          ]
        }
      ]
    },
    {
      "cell_type": "code",
      "source": [
        "import pandas as pd\n",
        "import numpy as np\n",
        "import re\n",
        "from tqdm.notebook import tqdm\n",
        "from langdetect import detect\n",
        "from nltk.corpus import stopwords\n",
        "from nltk.stem import WordNetLemmatizer\n",
        "\n",
        "USE_SAMPLE = True\n",
        "NROWS_SAMPLE = 10000\n",
        "JACCARD_THRESHOLD = 0.8\n",
        "COSINE_THRESHOLD = 0.85\n"
      ],
      "metadata": {
        "id": "vlAE9GR0fRwT"
      },
      "execution_count": null,
      "outputs": []
    },
    {
      "cell_type": "code",
      "source": [
        "df_test = pd.read_csv(csv_path, nrows=1)\n",
        "print(df_test.columns)"
      ],
      "metadata": {
        "colab": {
          "base_uri": "https://localhost:8080/"
        },
        "id": "9qvFungxgcFJ",
        "outputId": "d7436fb0-fc2d-4aec-c506-c5e558f87d4e"
      },
      "execution_count": null,
      "outputs": [
        {
          "output_type": "stream",
          "name": "stdout",
          "text": [
            "Index(['Id', 'Title', 'Price', 'User_id', 'profileName', 'review/helpfulness',\n",
            "       'review/score', 'review/time', 'review/summary', 'review/text'],\n",
            "      dtype='object')\n"
          ]
        }
      ]
    },
    {
      "cell_type": "code",
      "source": [
        "csv_path = 'Books_rating.csv'\n",
        "\n",
        "df = pd.read_csv(\n",
        "    csv_path,\n",
        "    usecols=['review/text', 'review/summary', 'User_id', 'Title'],\n",
        "    nrows=NROWS_SAMPLE if USE_SAMPLE else None\n",
        ")\n",
        "\n",
        "df['full_text'] = (df['review/summary'].fillna('') + ' ' + df['review/text'].fillna('')).str.strip()\n",
        "\n",
        "df = df[df['full_text'].str.strip().astype(bool)]\n",
        "\n",
        "def is_english(text):\n",
        "    try:\n",
        "        return detect(text) == 'en'\n",
        "    except:\n",
        "        return False\n",
        "\n",
        "tqdm.pandas()\n",
        "df = df[df['full_text'].progress_apply(is_english)]\n",
        "df = df.reset_index(drop=True)\n"
      ],
      "metadata": {
        "colab": {
          "base_uri": "https://localhost:8080/",
          "height": 49,
          "referenced_widgets": [
            "0f80d7e8ec06438f9bdbf40ab5483ddf",
            "d850e4d7176a44cda4903e5c8ead7074",
            "ef46e0eb7cb441bbad3ef5e75d8d43e3",
            "f13b27e2b8824ef88d69eda5e745512d",
            "d8aebfa1b8ce405e825b87e1e5ff8c83",
            "2f0ab6287baa46d8978630ff43258a02",
            "75407018d66541719c81098ad5b2980a",
            "bfee8c65cfbb4dba9be1a63c226a1b7c",
            "d53218c5c07046a0a3053696d7efa545",
            "b9889c71c00d4dc881ed5be90f7bbb1b",
            "1037aaab281543bd86211593e7e0144f"
          ]
        },
        "id": "Di26fW35f1mf",
        "outputId": "13548ab7-4f54-42c5-c2af-c2290adb4806"
      },
      "execution_count": null,
      "outputs": [
        {
          "output_type": "display_data",
          "data": {
            "text/plain": [
              "  0%|          | 0/10000 [00:00<?, ?it/s]"
            ],
            "application/vnd.jupyter.widget-view+json": {
              "version_major": 2,
              "version_minor": 0,
              "model_id": "0f80d7e8ec06438f9bdbf40ab5483ddf"
            }
          },
          "metadata": {}
        }
      ]
    },
    {
      "cell_type": "code",
      "source": [
        "import re\n",
        "from nltk.corpus import stopwords\n",
        "from nltk.stem import WordNetLemmatizer\n",
        "\n",
        "import nltk\n",
        "nltk.download('stopwords')\n",
        "nltk.download('wordnet')\n",
        "\n",
        "stop_words = set(stopwords.words('english'))\n",
        "lemmatizer = WordNetLemmatizer()\n",
        "\n",
        "def preprocess(text):\n",
        "    text = text.lower()\n",
        "    text = re.sub(r'[^a-z\\s]', ' ', text)\n",
        "    tokens = text.split()\n",
        "    tokens = [lemmatizer.lemmatize(t) for t in tokens if t not in stop_words and len(t) > 2]\n",
        "    return set(tokens)\n",
        "\n",
        "tqdm.pandas()\n",
        "df['tokens'] = df['full_text'].progress_apply(preprocess)\n",
        "\n",
        "print(df[['full_text', 'tokens']].head(3))\n"
      ],
      "metadata": {
        "id": "qy9Tyjwbf5jj"
      },
      "execution_count": null,
      "outputs": []
    },
    {
      "cell_type": "code",
      "source": [
        "from itertools import combinations\n",
        "from tqdm.notebook import tqdm\n",
        "\n",
        "sample_n = min(1000, len(df))\n",
        "\n",
        "jaccard_pairs = []\n",
        "\n",
        "for i, j in tqdm(combinations(range(sample_n), 2), total=(sample_n*(sample_n-1))//2):\n",
        "    tokens_i = df.iloc[i]['tokens']\n",
        "    tokens_j = df.iloc[j]['tokens']\n",
        "    if tokens_i and tokens_j:\n",
        "        intersection = len(tokens_i & tokens_j)\n",
        "        union = len(tokens_i | tokens_j)\n",
        "        if union > 0:\n",
        "            score = intersection / union\n",
        "            if score >= JACCARD_THRESHOLD:\n",
        "                jaccard_pairs.append((i, j, score))\n",
        "\n",
        "print(f\"Found {len(jaccard_pairs)} pairs with Jaccard similarity >= {JACCARD_THRESHOLD}\")\n",
        "\n",
        "for i, j, score in sorted(jaccard_pairs, key=lambda x: -x[2])[:5]:\n",
        "    print(\"=\"*40)\n",
        "    print(f\"Review 1 (index {i}):\\n{df.iloc[i]['full_text']}\\n\")\n",
        "    print(f\"Review 2 (index {j}):\\n{df.iloc[j]['full_text']}\\n\")\n",
        "    print(f\"Jaccard similarity: {score:.3f}\")\n"
      ],
      "metadata": {
        "id": "tctUNzH4hX-Z"
      },
      "execution_count": null,
      "outputs": []
    },
    {
      "cell_type": "code",
      "source": [
        "from datasketch import MinHash, MinHashLSH\n",
        "\n",
        "NUM_PERM = 128\n",
        "lsh = MinHashLSH(threshold=JACCARD_THRESHOLD, num_perm=NUM_PERM)\n",
        "\n",
        "def get_minhash(token_set, num_perm=NUM_PERM):\n",
        "    m = MinHash(num_perm=num_perm)\n",
        "    for token in token_set:\n",
        "        m.update(token.encode('utf8'))\n",
        "    return m\n",
        "\n",
        "minhashes = []\n",
        "for tokens in tqdm(df['tokens'], desc='MinHash signatures'):\n",
        "    minhashes.append(get_minhash(tokens))\n",
        "\n",
        "for idx, mh in tqdm(enumerate(minhashes), total=len(minhashes), desc='LSH insert'):\n",
        "    lsh.insert(str(idx), mh)\n",
        "\n",
        "similar_pairs = set()\n",
        "for idx, mh in tqdm(enumerate(minhashes), total=len(minhashes), desc='LSH query'):\n",
        "    candidates = lsh.query(mh)\n",
        "    for cand in candidates:\n",
        "        j = int(cand)\n",
        "        if idx < j:\n",
        "            tokens_i = df.iloc[idx]['tokens']\n",
        "            tokens_j = df.iloc[j]['tokens']\n",
        "            jac = len(tokens_i & tokens_j) / len(tokens_i | tokens_j) if (tokens_i and tokens_j) else 0\n",
        "            if jac >= JACCARD_THRESHOLD:\n",
        "                similar_pairs.add((idx, j, jac))\n",
        "\n",
        "print(f\"Found {len(similar_pairs)} pairs with Jaccard >= {JACCARD_THRESHOLD}\")\n",
        "\n",
        "for i, j, score in sorted(similar_pairs, key=lambda x: -x[2])[:5]:\n",
        "    print(\"=\"*40)\n",
        "    print(f\"Review 1 (index {i}):\\n{df.iloc[i]['full_text']}\\n\")\n",
        "    print(f\"Review 2 (index {j}):\\n{df.iloc[j]['full_text']}\\n\")\n",
        "    print(f\"Jaccard similarity: {score:.3f}\")\n"
      ],
      "metadata": {
        "id": "9q8HnbgNhu5x"
      },
      "execution_count": null,
      "outputs": []
    },
    {
      "cell_type": "code",
      "source": [
        "from sklearn.feature_extraction.text import TfidfVectorizer\n",
        "from sklearn.neighbors import NearestNeighbors\n",
        "\n",
        "texts = df['full_text'].astype(str).tolist()\n",
        "\n",
        "tfidf = TfidfVectorizer(\n",
        "    max_df=0.9,\n",
        "    min_df=2,\n",
        "    stop_words='english',\n",
        "    max_features=30000\n",
        ")\n",
        "X = tfidf.fit_transform(texts)\n",
        "\n",
        "n_neighbors = 5\n",
        "nn = NearestNeighbors(n_neighbors=n_neighbors+1, metric='cosine', algorithm='brute')\n",
        "nn.fit(X)\n",
        "\n",
        "distances, indices = nn.kneighbors(X)\n",
        "\n",
        "cosine_pairs = set()\n",
        "for i in range(len(df)):\n",
        "    for neighbor_idx, dist in zip(indices[i], distances[i]):\n",
        "        if i < neighbor_idx:\n",
        "            sim = 1 - dist\n",
        "            if sim >= COSINE_THRESHOLD:\n",
        "                cosine_pairs.add((i, neighbor_idx, sim))\n",
        "\n",
        "print(f\"Found {len(cosine_pairs)} pairs with cosine similarity >= {COSINE_THRESHOLD}\")\n",
        "\n",
        "for i, j, sim in sorted(cosine_pairs, key=lambda x: -x[2])[:5]:\n",
        "    print(\"=\"*40)\n",
        "    print(f\"Review 1 (index {i}):\\n{df.iloc[i]['full_text']}\\n\")\n",
        "    print(f\"Review 2 (index {j}):\\n{df.iloc[j]['full_text']}\\n\")\n",
        "    print(f\"Cosine similarity: {sim:.3f}\")\n"
      ],
      "metadata": {
        "id": "ZGtKxJ8nh_gE"
      },
      "execution_count": null,
      "outputs": []
    },
    {
      "cell_type": "code",
      "source": [
        "import networkx as nx\n",
        "\n",
        "all_pairs = set(jaccard_pairs).union(cosine_pairs)\n",
        "\n",
        "G = nx.Graph()\n",
        "G.add_nodes_from(range(len(df)))\n",
        "for i, j, _ in all_pairs:\n",
        "    G.add_edge(i, j)\n",
        "\n",
        "clusters = [list(comp) for comp in nx.connected_components(G) if len(comp) > 1]\n",
        "print(f\"Founded {len(clusters)} clusters with same review (size > 1)\")\n",
        "\n",
        "for idx, cluster in enumerate(clusters[:3]):\n",
        "    print(\"=\"*60)\n",
        "    print(f\"Cluster {idx+1}, size {len(cluster)}:\")\n",
        "    for i in cluster:\n",
        "        print(f\"- {df.iloc[i]['full_text'][:200]}...\\n\")\n"
      ],
      "metadata": {
        "id": "3-rzMgRLim8i"
      },
      "execution_count": null,
      "outputs": []
    },
    {
      "cell_type": "code",
      "source": [
        "jaccard_set = set((i, j) for i, j, _ in jaccard_pairs)\n",
        "cosine_set = set((i, j) for i, j, _ in cosine_pairs)\n",
        "print(f\"Found only Jaccard: {len(jaccard_set - cosine_set)}\")\n",
        "print(f\"Found only Cosine: {len(cosine_set - jaccard_set)}\")\n",
        "print(f\"Found for both: {len(jaccard_set & cosine_set)}\")\n"
      ],
      "metadata": {
        "id": "GO43FzPnjGpr"
      },
      "execution_count": null,
      "outputs": []
    },
    {
      "cell_type": "code",
      "source": [
        "print(\"Example of manual checking:\")\n",
        "for idx, (i, j, score) in enumerate(sorted(list(cosine_pairs), key=lambda x: -x[2])[:10]):\n",
        "    print(\"=\"*40)\n",
        "    print(f\"PAIR {idx+1}\")\n",
        "    print(f\"Cosine similarity: {score:.3f}\")\n",
        "    print(f\"Text 1:\\n{df.iloc[i]['full_text'][:500]}\\n\")\n",
        "    print(f\"Text 2:\\n{df.iloc[j]['full_text'][:500]}\\n\")\n"
      ],
      "metadata": {
        "id": "ivtARYiijLRw"
      },
      "execution_count": null,
      "outputs": []
    },
    {
      "cell_type": "code",
      "source": [
        "import matplotlib.pyplot as plt\n",
        "\n",
        "cosine_scores = [score for (_, _, score) in cosine_pairs]\n",
        "plt.hist(cosine_scores, bins=20)\n",
        "plt.xlabel('Cosine similarity')\n",
        "plt.ylabel('Number of pairs')\n",
        "plt.title('Histogram of Cosine similarity scores')\n",
        "plt.show()\n"
      ],
      "metadata": {
        "id": "YXso9aXRktqf"
      },
      "execution_count": null,
      "outputs": []
    },
    {
      "cell_type": "code",
      "source": [],
      "metadata": {
        "id": "acHNf8YVk9Ax"
      },
      "execution_count": null,
      "outputs": []
    }
  ]
}
